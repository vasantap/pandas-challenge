{
 "cells": [
  {
   "cell_type": "code",
   "execution_count": 92,
   "metadata": {},
   "outputs": [],
   "source": [
    "#Dependencies and Setup\n",
    "import pandas as pd"
   ]
  },
  {
   "cell_type": "code",
   "execution_count": 93,
   "metadata": {},
   "outputs": [],
   "source": [
    "#Importing the dataset\n",
    "schools_df = pd.read_csv('Resources/schools_complete.csv')\n",
    "students_df = pd.read_csv('Resources/students_complete.csv')\n",
    "\n",
    "#Combining the datasets\n",
    "schools_complete_data = pd.merge(schools_df, students_df, how='left', on='school_name')\n"
   ]
  },
  {
   "cell_type": "code",
   "execution_count": 94,
   "metadata": {},
   "outputs": [
    {
     "name": "stdout",
     "output_type": "stream",
     "text": [
      "15\n"
     ]
    }
   ],
   "source": [
    "#District Summary\n",
    "\n",
    "#Total schools\n",
    "Total_schools = schools_complete_data['school_name'].nunique()\n",
    "print(Total_schools)"
   ]
  },
  {
   "cell_type": "code",
   "execution_count": 95,
   "metadata": {},
   "outputs": [
    {
     "name": "stdout",
     "output_type": "stream",
     "text": [
      "39170\n"
     ]
    }
   ],
   "source": [
    "#Total students\n",
    "Total_students = schools_complete_data['student_name'].count()\n",
    "print(Total_students)\n"
   ]
  },
  {
   "cell_type": "code",
   "execution_count": 110,
   "metadata": {},
   "outputs": [
    {
     "name": "stdout",
     "output_type": "stream",
     "text": [
      "Total budget is $24,649,428.00\n"
     ]
    }
   ],
   "source": [
    "#Total budget\n",
    "Total_budget = schools_complete_data['budget'].unique().sum()\n",
    "Total_budget_format = \"${:,.2f}\".format(Total_budget)\n",
    "print(f\"Total budget is {Total_budget_format}\")"
   ]
  },
  {
   "cell_type": "code",
   "execution_count": 97,
   "metadata": {},
   "outputs": [
    {
     "name": "stdout",
     "output_type": "stream",
     "text": [
      "78.98537145774827\n"
     ]
    }
   ],
   "source": [
    "#Average math score\n",
    "Average_math_score = schools_complete_data['math_score'].mean()\n",
    "print(Average_math_score)"
   ]
  },
  {
   "cell_type": "code",
   "execution_count": 98,
   "metadata": {},
   "outputs": [
    {
     "name": "stdout",
     "output_type": "stream",
     "text": [
      "81.87784018381414\n"
     ]
    }
   ],
   "source": [
    "#Average reading score\n",
    "Average_reading_score = schools_complete_data['reading_score'].mean()\n",
    "print(Average_reading_score)"
   ]
  },
  {
   "cell_type": "code",
   "execution_count": 99,
   "metadata": {},
   "outputs": [
    {
     "name": "stdout",
     "output_type": "stream",
     "text": [
      "74.9808526933878\n"
     ]
    }
   ],
   "source": [
    "\n",
    "#% passing math(the percentage of students that passed math)\n",
    "Students_passing_math = schools_complete_data[schools_complete_data['math_score'] >= 70].count()\n",
    "Percentage_passing_math = (schools_complete_data['math_score']>=70).sum()/Total_students*100\n",
    "print(Percentage_passing_math)"
   ]
  },
  {
   "cell_type": "code",
   "execution_count": 100,
   "metadata": {},
   "outputs": [
    {
     "name": "stdout",
     "output_type": "stream",
     "text": [
      "85.80546336482001\n"
     ]
    }
   ],
   "source": [
    "#% passing reading(the percentage of students that passed reading)\n",
    "Students_passing_reading = schools_complete_data[schools_complete_data['reading_score'] >= 70].count()\n",
    "Percentage_passing_reading = (schools_complete_data['reading_score']>=70).sum()/Total_students*100\n",
    "print(Percentage_passing_reading)"
   ]
  },
  {
   "cell_type": "code",
   "execution_count": 101,
   "metadata": {},
   "outputs": [
    {
     "name": "stdout",
     "output_type": "stream",
     "text": [
      "The percentage of students that passed overall : 74.980853\n"
     ]
    }
   ],
   "source": [
    "#% overall passing(the percentage of students that passed both math and reading)\n",
    "Students_passing_both = schools_complete_data[schools_complete_data['math_score'] >= 70].count()+schools_complete_data[schools_complete_data['reading_score'] >= 70].count()\n",
    "Percentage_passing_math = (schools_complete_data['math_score']>=70).sum()/Total_students*100\n",
    "Percentage_passing_math_formatted = \"{:,.6f}\".format(Percentage_passing_math)\n",
    "print(f\"The percentage of students that passed overall : {Percentage_passing_math_formatted}\")"
   ]
  },
  {
   "cell_type": "code",
   "execution_count": 111,
   "metadata": {},
   "outputs": [
    {
     "data": {
      "text/html": [
       "<div>\n",
       "<style scoped>\n",
       "    .dataframe tbody tr th:only-of-type {\n",
       "        vertical-align: middle;\n",
       "    }\n",
       "\n",
       "    .dataframe tbody tr th {\n",
       "        vertical-align: top;\n",
       "    }\n",
       "\n",
       "    .dataframe thead th {\n",
       "        text-align: right;\n",
       "    }\n",
       "</style>\n",
       "<table border=\"1\" class=\"dataframe\">\n",
       "  <thead>\n",
       "    <tr style=\"text-align: right;\">\n",
       "      <th></th>\n",
       "      <th>Total Schools</th>\n",
       "      <th>Total Students</th>\n",
       "      <th>Total Budget</th>\n",
       "      <th>Average Math Score</th>\n",
       "      <th>Average Reading Score</th>\n",
       "      <th>% Passing Math</th>\n",
       "      <th>% Passing Reading</th>\n",
       "      <th>% Overall Passing</th>\n",
       "    </tr>\n",
       "  </thead>\n",
       "  <tbody>\n",
       "    <tr>\n",
       "      <th>0</th>\n",
       "      <td>15</td>\n",
       "      <td>39170</td>\n",
       "      <td>$24,649,428.00</td>\n",
       "      <td>78.985371</td>\n",
       "      <td>81.87784</td>\n",
       "      <td>74.980853</td>\n",
       "      <td>85.805463</td>\n",
       "      <td>74.980853</td>\n",
       "    </tr>\n",
       "  </tbody>\n",
       "</table>\n",
       "</div>"
      ],
      "text/plain": [
       "   Total Schools  Total Students    Total Budget  Average Math Score  \\\n",
       "0             15           39170  $24,649,428.00           78.985371   \n",
       "\n",
       "   Average Reading Score  % Passing Math  % Passing Reading  % Overall Passing  \n",
       "0               81.87784       74.980853          85.805463          74.980853  "
      ]
     },
     "execution_count": 111,
     "metadata": {},
     "output_type": "execute_result"
    }
   ],
   "source": [
    "#Dataframe to store the results\n",
    "results_df = pd.DataFrame({'Total Schools':[Total_schools], 'Total Students':Total_students, 'Total Budget':Total_budget_format, 'Average Math Score':[Average_math_score], 'Average Reading Score':[Average_reading_score], '% Passing Math':[Percentage_passing_math], '% Passing Reading':[Percentage_passing_reading], '% Overall Passing':[Percentage_passing_math]})\n",
    "results_df.head()"
   ]
  },
  {
   "cell_type": "code",
   "execution_count": null,
   "metadata": {},
   "outputs": [],
   "source": []
  }
 ],
 "metadata": {
  "interpreter": {
   "hash": "3434221c975faf43e070290dd456d19aa7d2c0df2195ac3e2be5dd4befc295e4"
  },
  "kernelspec": {
   "display_name": "Python 3.9.7 ('base')",
   "language": "python",
   "name": "python3"
  },
  "language_info": {
   "codemirror_mode": {
    "name": "ipython",
    "version": 3
   },
   "file_extension": ".py",
   "mimetype": "text/x-python",
   "name": "python",
   "nbconvert_exporter": "python",
   "pygments_lexer": "ipython3",
   "version": "3.9.7"
  },
  "orig_nbformat": 4
 },
 "nbformat": 4,
 "nbformat_minor": 2
}
